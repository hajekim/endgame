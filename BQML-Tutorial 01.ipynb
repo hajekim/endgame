{
 "cells": [
  {
   "cell_type": "markdown",
   "metadata": {},
   "source": [
    "## Google BigData Showcase\n",
    "BigQuery ML Tutorial 01  \n",
    "Edited by 김하제"
   ]
  },
  {
   "cell_type": "code",
   "execution_count": 3,
   "metadata": {},
   "outputs": [],
   "source": [
    "# BigQuery 라이브러리 호출\n",
    "from google.cloud import bigquery\n",
    "client = bigquery.Client()"
   ]
  },
  {
   "cell_type": "code",
   "execution_count": 4,
   "metadata": {},
   "outputs": [],
   "source": [
    "# 데이터셋 생성 \"bqml_tutorial\"\n",
    "dataset = bigquery.Dataset(client.dataset('bqml_tutorial'))\n",
    "dataset.location = 'US'\n",
    "#client.create_dataset(dataset)"
   ]
  },
  {
   "cell_type": "code",
   "execution_count": 5,
   "metadata": {},
   "outputs": [],
   "source": [
    "# magic 명령어를 처리할 수 있도록 클라이언트 라이브러리 호출\n",
    "%load_ext google.cloud.bigquery"
   ]
  },
  {
   "cell_type": "code",
   "execution_count": 7,
   "metadata": {},
   "outputs": [
    {
     "ename": "SyntaxError",
     "evalue": "invalid syntax (<ipython-input-7-c34adf798464>, line 3)",
     "output_type": "error",
     "traceback": [
      "\u001b[0;36m  File \u001b[0;32m\"<ipython-input-7-c34adf798464>\"\u001b[0;36m, line \u001b[0;32m3\u001b[0m\n\u001b[0;31m    CREATE MODEL `bqml_tutorial.sample_model`\u001b[0m\n\u001b[0m               ^\u001b[0m\n\u001b[0;31mSyntaxError\u001b[0m\u001b[0;31m:\u001b[0m invalid syntax\n"
     ]
    }
   ],
   "source": [
    "# ML 모델 생성\n",
    "%%bigquery\n",
    "CREATE OR REPLACE MODEL `bqml_tutorial.sample_model`\n",
    "OPTIONS(model_type='logistic_reg') AS\n",
    "SELECT\n",
    "  IF(totals.transactions IS NULL, 0, 1) AS label,\n",
    "  IFNULL(device.operatingSystem, \"\") AS os,\n",
    "  device.isMobile AS is_mobile,\n",
    "  IFNULL(geoNetwork.country, \"\") AS country,\n",
    "  IFNULL(totals.pageviews, 0) AS pageviews\n",
    "FROM\n",
    "  `bigquery-public-data.google_analytics_sample.ga_sessions_*`\n",
    "WHERE\n",
    "  _TABLE_SUFFIX BETWEEN '20160801' AND '20170630'"
   ]
  },
  {
   "cell_type": "code",
   "execution_count": null,
   "metadata": {},
   "outputs": [],
   "source": [
    "# ML 학습 정보\n",
    "%%bigquery\n",
    "SELECT\n",
    "  *\n",
    "FROM\n",
    "  ML.TRAINING_INFO(MODEL `bqml_tutorial.sample_model`)"
   ]
  },
  {
   "cell_type": "code",
   "execution_count": null,
   "metadata": {},
   "outputs": [],
   "source": [
    "# ML 평가하기\n",
    "%%bigquery\n",
    "SELECT\n",
    "  *\n",
    "FROM ML.EVALUATE(MODEL `bqml_tutorial.sample_model`, (\n",
    "  SELECT\n",
    "    IF(totals.transactions IS NULL, 0, 1) AS label,\n",
    "    IFNULL(device.operatingSystem, \"\") AS os,\n",
    "    device.isMobile AS is_mobile,\n",
    "    IFNULL(geoNetwork.country, \"\") AS country,\n",
    "    IFNULL(totals.pageviews, 0) AS pageviews\n",
    "  FROM\n",
    "    `bigquery-public-data.google_analytics_sample.ga_sessions_*`\n",
    "  WHERE\n",
    "    _TABLE_SUFFIX BETWEEN '20170701' AND '20170801'))"
   ]
  },
  {
   "cell_type": "code",
   "execution_count": null,
   "metadata": {},
   "outputs": [],
   "source": [
    "# 예측하기\n",
    "%%bigquery\n",
    "SELECT\n",
    "  country,\n",
    "  SUM(predicted_label) as total_predicted_purchases\n",
    "FROM ML.PREDICT(MODEL `bqml_tutorial.sample_model`, (\n",
    "  SELECT\n",
    "    IFNULL(device.operatingSystem, \"\") AS os,\n",
    "    device.isMobile AS is_mobile,\n",
    "    IFNULL(totals.pageviews, 0) AS pageviews,\n",
    "    IFNULL(geoNetwork.country, \"\") AS country\n",
    "  FROM\n",
    "    `bigquery-public-data.google_analytics_sample.ga_sessions_*`\n",
    "  WHERE\n",
    "    _TABLE_SUFFIX BETWEEN '20170701' AND '20170801'))\n",
    "  GROUP BY country\n",
    "  ORDER BY total_predicted_purchases DESC\n",
    "  LIMIT 10"
   ]
  },
  {
   "cell_type": "code",
   "execution_count": null,
   "metadata": {},
   "outputs": [],
   "source": [
    "# Test 데이터 생성하기\n",
    "%%bigquery\n",
    "SELECT\n",
    "  fullVisitorId,\n",
    "  SUM(predicted_label) as total_predicted_purchases\n",
    "FROM ML.PREDICT(MODEL `bqml_tutorial.sample_model`, (\n",
    "  SELECT\n",
    "    IFNULL(device.operatingSystem, \"\") AS os,\n",
    "    device.isMobile AS is_mobile,\n",
    "    IFNULL(totals.pageviews, 0) AS pageviews,\n",
    "    IFNULL(geoNetwork.country, \"\") AS country,\n",
    "    fullVisitorId\n",
    "  FROM\n",
    "    `bigquery-public-data.google_analytics_sample.ga_sessions_*`\n",
    "  WHERE\n",
    "    _TABLE_SUFFIX BETWEEN '20170701' AND '20170801'))\n",
    "  GROUP BY fullVisitorId\n",
    "  ORDER BY total_predicted_purchases DESC\n",
    "  LIMIT 10"
   ]
  }
 ],
 "metadata": {
  "kernelspec": {
   "display_name": "Python 3",
   "language": "python",
   "name": "python3"
  },
  "language_info": {
   "codemirror_mode": {
    "name": "ipython",
    "version": 3
   },
   "file_extension": ".py",
   "mimetype": "text/x-python",
   "name": "python",
   "nbconvert_exporter": "python",
   "pygments_lexer": "ipython3",
   "version": "3.7.3"
  }
 },
 "nbformat": 4,
 "nbformat_minor": 2
}
